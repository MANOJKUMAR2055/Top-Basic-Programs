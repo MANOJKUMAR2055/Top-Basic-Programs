{
 "cells": [
  {
   "cell_type": "markdown",
   "metadata": {},
   "source": [
    "1) POSITIVE OR NEGATIVE"
   ]
  },
  {
   "cell_type": "code",
   "execution_count": 1,
   "metadata": {},
   "outputs": [
    {
     "name": "stdout",
     "output_type": "stream",
     "text": [
      "positive \n"
     ]
    }
   ],
   "source": [
    "\n",
    "n = int(input())\n",
    "print(\"positive \" if n>=0 else \"Negative\")"
   ]
  },
  {
   "cell_type": "markdown",
   "metadata": {},
   "source": [
    "2)Even or Odd"
   ]
  },
  {
   "cell_type": "code",
   "execution_count": 2,
   "metadata": {},
   "outputs": [
    {
     "name": "stdout",
     "output_type": "stream",
     "text": [
      "Even \n"
     ]
    }
   ],
   "source": [
    "n = int(input()) # alternative n&1==0 even n&1==1 odd\n",
    "print(\"Even \" if n%2==0 else \"odd\")"
   ]
  },
  {
   "cell_type": "markdown",
   "metadata": {},
   "source": [
    "3) Sum of N Natural Numbers"
   ]
  },
  {
   "cell_type": "code",
   "execution_count": 1,
   "metadata": {},
   "outputs": [
    {
     "name": "stdout",
     "output_type": "stream",
     "text": [
      "55\n"
     ]
    }
   ],
   "source": [
    "n=int(input())\n",
    "sum=0\n",
    "for i in range(0,n+1):\n",
    "    sum+=i\n",
    "print(sum)"
   ]
  },
  {
   "cell_type": "markdown",
   "metadata": {},
   "source": [
    "4) Leap year or not"
   ]
  },
  {
   "cell_type": "code",
   "execution_count": 3,
   "metadata": {},
   "outputs": [
    {
     "name": "stdout",
     "output_type": "stream",
     "text": [
      "Leap\n"
     ]
    }
   ],
   "source": [
    "year = int(input())\n",
    "if year%4==0 and year%100!=0 or year%400==0:\n",
    "    print(\"Leap\")\n",
    "else:\n",
    "    print(\"Not Leap\")"
   ]
  },
  {
   "cell_type": "markdown",
   "metadata": {},
   "source": [
    "5) Prime Number"
   ]
  },
  {
   "cell_type": "code",
   "execution_count": 7,
   "metadata": {},
   "outputs": [
    {
     "name": "stdout",
     "output_type": "stream",
     "text": [
      "prime\n"
     ]
    }
   ],
   "source": [
    "import math\n",
    "number = int(input())\n",
    "flag=1\n",
    "for i in range(2,int(math.sqrt(number)+1)):\n",
    "    if(number%i==0):\n",
    "        flag=0\n",
    "        break\n",
    "if(flag):\n",
    "    print('prime')\n",
    "else:\n",
    "    print('Not Prime')"
   ]
  },
  {
   "cell_type": "markdown",
   "metadata": {},
   "source": [
    "6) Primes between range"
   ]
  },
  {
   "cell_type": "code",
   "execution_count": 18,
   "metadata": {},
   "outputs": [
    {
     "name": "stdout",
     "output_type": "stream",
     "text": [
      "1  Prime\n",
      "2  Prime\n",
      "3  Prime\n",
      "5  Prime\n",
      "7  Prime\n",
      "11  Prime\n",
      "13  Prime\n",
      "17  Prime\n",
      "19  Prime\n",
      "23  Prime\n",
      "29  Prime\n",
      "31  Prime\n",
      "37  Prime\n",
      "41  Prime\n",
      "43  Prime\n",
      "47  Prime\n",
      "53  Prime\n",
      "59  Prime\n",
      "61  Prime\n",
      "67  Prime\n",
      "71  Prime\n",
      "73  Prime\n",
      "79  Prime\n",
      "83  Prime\n",
      "89  Prime\n",
      "97  Prime\n"
     ]
    }
   ],
   "source": [
    "import math\n",
    "lb,ub = map(int,input().split())\n",
    "for i in range(lb,ub+1):\n",
    "    flag=1\n",
    "    for j in range(2,int(math.sqrt(i)+1)):\n",
    "        if(i%j==0):       \n",
    "            flag=0\n",
    "            break\n",
    "    if(flag):\n",
    "        print(i,' Prime')        \n"
   ]
  },
  {
   "cell_type": "markdown",
   "metadata": {},
   "source": []
  },
  {
   "cell_type": "code",
   "execution_count": null,
   "metadata": {},
   "outputs": [],
   "source": []
  },
  {
   "cell_type": "code",
   "execution_count": null,
   "metadata": {},
   "outputs": [],
   "source": []
  },
  {
   "cell_type": "code",
   "execution_count": null,
   "metadata": {},
   "outputs": [],
   "source": []
  },
  {
   "cell_type": "code",
   "execution_count": null,
   "metadata": {},
   "outputs": [],
   "source": []
  },
  {
   "cell_type": "code",
   "execution_count": null,
   "metadata": {},
   "outputs": [],
   "source": []
  },
  {
   "cell_type": "code",
   "execution_count": null,
   "metadata": {},
   "outputs": [],
   "source": []
  },
  {
   "cell_type": "code",
   "execution_count": null,
   "metadata": {},
   "outputs": [],
   "source": []
  },
  {
   "cell_type": "code",
   "execution_count": null,
   "metadata": {},
   "outputs": [],
   "source": []
  },
  {
   "cell_type": "code",
   "execution_count": null,
   "metadata": {},
   "outputs": [],
   "source": []
  }
 ],
 "metadata": {
  "kernelspec": {
   "display_name": "Python 3",
   "language": "python",
   "name": "python3"
  },
  "language_info": {
   "codemirror_mode": {
    "name": "ipython",
    "version": 3
   },
   "file_extension": ".py",
   "mimetype": "text/x-python",
   "name": "python",
   "nbconvert_exporter": "python",
   "pygments_lexer": "ipython3",
   "version": "3.12.7"
  }
 },
 "nbformat": 4,
 "nbformat_minor": 2
}
